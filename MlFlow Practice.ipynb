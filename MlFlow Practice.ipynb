{
 "cells": [
  {
   "cell_type": "code",
   "metadata": {
    "ExecuteTime": {
     "end_time": "2024-09-24T09:17:56.309053Z",
     "start_time": "2024-09-24T09:17:56.291867Z"
    }
   },
   "source": [
    "import os\n",
    "import shutil\n",
    "import tempfile\n",
    "\n",
    "import requests\n",
    "from bs4 import BeautifulSoup\n",
    "from langchain.chains import RetrievalQA\n",
    "from langchain.document_loaders import TextLoader\n",
    "from langchain.text_splitter import CharacterTextSplitter\n",
    "from langchain.vectorstores import FAISS\n",
    "from langchain_openai import OpenAI, OpenAIEmbeddings\n",
    "\n",
    "import mlflow\n",
    "os.environ['OPENAI_API_KEY'] = \"set your api key here\"\n"
   ],
   "outputs": [],
   "execution_count": 30
  },
  {
   "cell_type": "code",
   "metadata": {
    "ExecuteTime": {
     "end_time": "2024-09-23T15:10:51.451113Z",
     "start_time": "2024-09-23T15:10:51.445052Z"
    }
   },
   "source": [
    "def fetch_federal_document(url, div_class):  # noqa: D417\n",
    "    \"\"\"\n",
    "    Scrapes the transcript of the Act Establishing Yellowstone National Park from the given URL.\n",
    "\n",
    "    Args:\n",
    "    url (str): URL of the webpage to scrape.\n",
    "\n",
    "    Returns:\n",
    "    str: The transcript text of the Act.\n",
    "    \"\"\"\n",
    "    # Sending a request to the URL\n",
    "    response = requests.get(url)\n",
    "    if response.status_code == 200:\n",
    "        # Parsing the HTML content of the page\n",
    "        soup = BeautifulSoup(response.text, \"html.parser\")\n",
    "\n",
    "        # Finding the transcript section by its HTML structure\n",
    "        transcript_section = soup.find(\"div\", class_=div_class)\n",
    "        if transcript_section:\n",
    "            transcript_text = transcript_section.get_text(separator=\"\\n\", strip=True)\n",
    "            return transcript_text\n",
    "        else:\n",
    "            return \"Transcript section not found.\"\n",
    "    else:\n",
    "        return f\"Failed to retrieve the webpage. Status code: {response.status_code}\""
   ],
   "outputs": [],
   "execution_count": 6
  },
  {
   "cell_type": "code",
   "metadata": {
    "ExecuteTime": {
     "end_time": "2024-09-24T09:04:33.673870Z",
     "start_time": "2024-09-24T09:04:33.645087Z"
    }
   },
   "source": [
    "def fetch_and_save_documents(url_list, doc_path):\n",
    "    \"\"\"\n",
    "    Fetches documents from given URLs and saves them to a specified file path.\n",
    "\n",
    "    Args:\n",
    "        url_list (list): List of URLs to fetch documents from.\n",
    "        doc_path (str): Path to the file where documents will be saved.\n",
    "    \"\"\"\n",
    "    for url in url_list:\n",
    "        document = fetch_federal_document(url, \"col-sm-9\")\n",
    "        \n",
    "        with open(doc_path, \"a\") as file:\n",
    "            file.write(document)\n",
    "\n",
    "\n",
    "def create_faiss_database(document_path, database_save_directory, chunk_size=500, chunk_overlap=10):\n",
    "    \"\"\"\n",
    "    Creates and saves a FAISS database using documents from the specified file.\n",
    "\n",
    "    Args:\n",
    "        document_path (str): Path to the file containing documents.\n",
    "        database_save_directory (str): Directory where the FAISS database will be saved.\n",
    "        chunk_size (int, optional): Size of each document chunk. Default is 500.\n",
    "        chunk_overlap (int, optional): Overlap between consecutive chunks. Default is 10.\n",
    "\n",
    "    Returns:\n",
    "        FAISS database instance.\n",
    "    \"\"\"\n",
    "    # Load documents from the specified file\n",
    "    document_loader = TextLoader(document_path)\n",
    "    raw_documents = document_loader.load()\n",
    "\n",
    "    # Split documents into smaller chunks with specified size and overlap\n",
    "    document_splitter = CharacterTextSplitter(chunk_size=chunk_size, chunk_overlap=chunk_overlap)\n",
    "    document_chunks = document_splitter.split_documents(raw_documents)\n",
    "\n",
    "    # Generate embeddings for each document chunk\n",
    "    embedding_generator = OpenAIEmbeddings()\n",
    "    faiss_database = FAISS.from_documents(document_chunks, embedding_generator)\n",
    "\n",
    "    # Save the FAISS database to the specified directory\n",
    "    faiss_database.save_local(database_save_directory)\n",
    "\n",
    "    return faiss_database"
   ],
   "outputs": [],
   "execution_count": 24
  },
  {
   "cell_type": "code",
   "metadata": {
    "ExecuteTime": {
     "end_time": "2024-09-24T08:47:20.151598Z",
     "start_time": "2024-09-24T08:47:16.530683Z"
    }
   },
   "source": [
    "temporary_directory = tempfile.mkdtemp()\n",
    "\n",
    "doc_path = os.path.join(temporary_directory, \"docs.txt\")\n",
    "persist_dir = os.path.join(temporary_directory, \"faiss_index\")\n",
    "\n",
    "url_listings = [\n",
    "    \"https://www.archives.gov/milestone-documents/act-establishing-yellowstone-national-park#transcript\",\n",
    "    \"https://www.archives.gov/milestone-documents/sherman-anti-trust-act#transcript\",\n",
    "]\n",
    "\n",
    "\n",
    "fetch_and_save_documents(url_listings, doc_path)\n",
    "\n",
    "vector_db = create_faiss_database(doc_path, persist_dir)"
   ],
   "outputs": [],
   "execution_count": 18
  },
  {
   "cell_type": "code",
   "metadata": {
    "ExecuteTime": {
     "end_time": "2024-09-24T09:05:22.863787Z",
     "start_time": "2024-09-24T09:05:15.735875Z"
    }
   },
   "source": [
    "mlflow.set_tracking_uri(\"http://127.0.0.1:5000\")\n",
    "mlflow.set_experiment(\"Legal RAG\")\n",
    "mlflow.langchain.autolog(log_models=True, log_input_examples=True)\n",
    "\n",
    "retrievalQA = RetrievalQA.from_llm(llm=OpenAI(), retriever=vector_db.as_retriever())\n",
    "\n",
    "\n",
    "# Log the retrievalQA chain\n",
    "def load_retriever(persist_directory):\n",
    "    embeddings = OpenAIEmbeddings()\n",
    "    vectorstore = FAISS.load_local(\n",
    "        persist_directory,\n",
    "        embeddings,\n",
    "        allow_dangerous_deserialization=True,  # This is required to load the index from MLflow\n",
    "    )\n",
    "    return vectorstore.as_retriever()\n",
    "\n",
    "\n",
    "with mlflow.start_run() as run:\n",
    "    model_info = mlflow.langchain.log_model(\n",
    "        retrievalQA,\n",
    "        artifact_path=\"retrieval_qa\",\n",
    "        loader_fn=load_retriever,\n",
    "        persist_dir=persist_dir,\n",
    "    )"
   ],
   "outputs": [
    {
     "name": "stderr",
     "output_type": "stream",
     "text": [
      "2024/09/24 14:05:22 INFO mlflow.tracking._tracking_service.client: 🏃 View run fun-lark-775 at: http://127.0.0.1:5000/#/experiments/418308964639969190/runs/8708650cd46548a3ba34fc9a26c29608.\n",
      "2024/09/24 14:05:22 INFO mlflow.tracking._tracking_service.client: 🧪 View experiment at: http://127.0.0.1:5000/#/experiments/418308964639969190.\n"
     ]
    }
   ],
   "execution_count": 25
  },
  {
   "cell_type": "code",
   "metadata": {
    "ExecuteTime": {
     "end_time": "2024-09-24T09:05:32.313924Z",
     "start_time": "2024-09-24T09:05:31.935604Z"
    }
   },
   "source": "loaded_model = mlflow.pyfunc.load_model(model_info.model_uri)",
   "outputs": [
    {
     "data": {
      "text/plain": [
       "Downloading artifacts:   0%|          | 0/8 [00:00<?, ?it/s]"
      ],
      "application/vnd.jupyter.widget-view+json": {
       "version_major": 2,
       "version_minor": 0,
       "model_id": "7c648f3fcd8d4f29a5687f1f891aa810"
      }
     },
     "metadata": {},
     "output_type": "display_data"
    }
   ],
   "execution_count": 26
  },
  {
   "cell_type": "code",
   "metadata": {
    "ExecuteTime": {
     "end_time": "2024-09-24T09:05:34.015772Z",
     "start_time": "2024-09-24T09:05:34.011751Z"
    }
   },
   "source": [
    "def print_formatted_response(response_list, max_line_length=80):\n",
    "    \"\"\"\n",
    "    Formats and prints responses with a maximum line length for better readability.\n",
    "\n",
    "    Args:\n",
    "    response_list (list): A list of strings representing responses.\n",
    "    max_line_length (int): Maximum number of characters in a line. Defaults to 80.\n",
    "    \"\"\"\n",
    "    for response in response_list:\n",
    "        words = response.split()\n",
    "        line = \"\"\n",
    "        for word in words:\n",
    "            if len(line) + len(word) + 1 <= max_line_length:\n",
    "                line += word + \" \"\n",
    "            else:\n",
    "                print(line)\n",
    "                line = word + \" \"\n",
    "        print(line)"
   ],
   "outputs": [],
   "execution_count": 27
  },
  {
   "cell_type": "code",
   "metadata": {
    "ExecuteTime": {
     "end_time": "2024-09-24T09:05:39.140599Z",
     "start_time": "2024-09-24T09:05:36.757393Z"
    }
   },
   "source": [
    "answer1 = loaded_model.predict([{\"query\": \"What does the document say about trespassers?\"}])\n",
    "\n",
    "print_formatted_response(answer1)"
   ],
   "outputs": [
    {
     "name": "stdout",
     "output_type": "stream",
     "text": [
      "The document states that all persons who shall locate or settle upon or occupy \n",
      "the land designated as a public park, except as provided for in the act, shall \n",
      "be considered trespassers and removed from the land. \n"
     ]
    }
   ],
   "execution_count": 28
  },
  {
   "cell_type": "code",
   "execution_count": 15,
   "metadata": {},
   "outputs": [],
   "source": [
    "# Clean up our temporary directory that we created with our FAISS instance\n",
    "shutil.rmtree(temporary_directory)"
   ]
  },
  {
   "metadata": {
    "ExecuteTime": {
     "end_time": "2024-09-24T08:22:45.950089Z",
     "start_time": "2024-09-24T08:22:45.921828Z"
    }
   },
   "cell_type": "code",
   "source": [
    "from mlflow import MlflowClient\n",
    "\n",
    "# Initialize an MLflow Client\n",
    "client = MlflowClient()\n",
    "\n",
    "\n",
    "def assign_alias_to_stage(model_name, stage, alias):\n",
    "    \"\"\"\n",
    "    Assign an alias to the latest version of a registered model within a specified stage.\n",
    "\n",
    "    :param model_name: The name of the registered model.\n",
    "    :param stage: The stage of the model version for which the alias is to be assigned. Can be\n",
    "                \"Production\", \"Staging\", \"Archived\", or \"None\".\n",
    "    :param alias: The alias to assign to the model version.\n",
    "    :return: None\n",
    "    \"\"\"\n",
    "    latest_mv = client.get_latest_versions(model_name, stages=[stage])[0]\n",
    "    client.set_registered_model_alias(model_name, alias, latest_mv.version)"
   ],
   "outputs": [],
   "execution_count": 17
  },
  {
   "metadata": {
    "ExecuteTime": {
     "end_time": "2024-09-30T13:40:43.649098Z",
     "start_time": "2024-09-30T13:40:41.491676Z"
    }
   },
   "cell_type": "code",
   "source": [
    "import requests\n",
    "import json\n",
    "payload = json.dumps(\n",
    "    {\n",
    "        'inputs': {'query': [\"What does the document say about trespassers?\"]},\n",
    "        'params': {\n",
    "            'max_tokens': 20\n",
    "        }\n",
    "    }\n",
    ")\n",
    "res = requests.post(\n",
    "    url=\"http://127.0.0.1:5002/invocations\",\n",
    "    data=payload,\n",
    "    headers={\"Content-Type\": \"application/json\"},\n",
    ")"
   ],
   "outputs": [],
   "execution_count": 31
  },
  {
   "metadata": {
    "ExecuteTime": {
     "end_time": "2024-09-30T13:40:43.655531Z",
     "start_time": "2024-09-30T13:40:43.651450Z"
    }
   },
   "cell_type": "code",
   "source": "res.json()",
   "outputs": [
    {
     "data": {
      "text/plain": [
       "{'predictions': [' The document states that any persons who settle, occupy, or trespass upon the designated tract of land near the headwaters of the Yellowstone River, except as provided for in the act, shall be considered trespassers and will be removed from the land.']}"
      ]
     },
     "execution_count": 32,
     "metadata": {},
     "output_type": "execute_result"
    }
   ],
   "execution_count": 32
  }
 ],
 "metadata": {
  "kernelspec": {
   "display_name": "Python 3 (ipykernel)",
   "language": "python",
   "name": "python3"
  },
  "language_info": {
   "codemirror_mode": {
    "name": "ipython",
    "version": 3
   },
   "file_extension": ".py",
   "mimetype": "text/x-python",
   "name": "python",
   "nbconvert_exporter": "python",
   "pygments_lexer": "ipython3",
   "version": "3.8.13"
  }
 },
 "nbformat": 4,
 "nbformat_minor": 4
}
